{
 "cells": [
  {
   "cell_type": "code",
   "execution_count": null,
   "metadata": {},
   "outputs": [],
   "source": [
    "# DAY-3\n",
    "# Repeating numbers\n",
    "ls=eval(input())\n",
    "out=[]\n",
    "set_=set(ls)\n",
    "for i in set_:\n",
    "    if ls.count(i)>1:\n",
    "        out.append(i)\n",
    "print(*out)"
   ]
  },
  {
   "cell_type": "code",
   "execution_count": null,
   "metadata": {},
   "outputs": [],
   "source": [
    "# DAY-3\n",
    "# Factorial\n",
    "def fact(n):\n",
    "    if (n==1 or n==0):\n",
    "        return 1\n",
    "    else:\n",
    "        return n*fact(n-1)\n",
    "\n",
    "\n",
    "n=int(input(\"Enter the number:\"))\n",
    "print(fact(n))"
   ]
  }
 ],
 "metadata": {
  "language_info": {
   "name": "python"
  },
  "orig_nbformat": 4
 },
 "nbformat": 4,
 "nbformat_minor": 2
}
